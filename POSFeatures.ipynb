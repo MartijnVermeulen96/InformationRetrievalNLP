{
 "cells": [
  {
   "cell_type": "code",
   "execution_count": 64,
   "metadata": {},
   "outputs": [],
   "source": [
    "import pandas as pd\n",
    "from FeatureFunctions import helper\n",
    "\n",
    "train = pd.read_csv(\"output/POStest.txt\", sep = \"\\t\",header = None, encoding='utf-8')\n"
   ]
  },
  {
   "cell_type": "code",
   "execution_count": 65,
   "metadata": {},
   "outputs": [
    {
     "data": {
      "text/plain": [
       "0      \\t,\\t0,9904\\rcan\\tV\\t0,9997\\nu\\tO\\t0,9979\\rhel...\n",
       "1      \\t,\\t0,9919\\njust\\tR\\t0,9994\\rwalked\\tV\\t0,998...\n",
       "2      \\t,\\t0,9904\\rgonna\\tV\\t0,9970\\nwin\\tV\\t0,9905\\...\n",
       "3      \\t,\\t0,9896\\rhe\\tO\\t0,9984\\nis\\tV\\t0,9996\\rexa...\n",
       "4      \\t,\\t0,9940\\nso\\tR\\t0,9925\\rmuch\\tR\\t0,7444\\na...\n",
       "5      \\t,\\t0,9878\\rcorny\\tA\\t0,9985\\njokes\\tN\\t0,998...\n",
       "6      \\t,\\t0,9824\\npeople\\tN\\t0,9976\\rcomplain\\tV\\t0...\n",
       "7      \\t,\\t0,9896\\ndarn\\tA\\t0,4265\\r,\\t,\\t0,9945\\nmy...\n",
       "8      \\t,\\t0,9925\\rif\\tP\\t0,9776\\nchristian\\t^\\t0,99...\n",
       "9      \\t,\\t0,9824\\npeople\\tN\\t0,9965\\rwho\\tO\\t0,9713...\n",
       "10     \\t,\\t0,9930\\nmost\\tR\\t0,9696\\rimportant\\tA\\t0,...\n",
       "11     \\t,\\t0,9858\\r#orionlaunch\\t#\\t0,6887\\nunderway...\n",
       "12     \\t,\\t0,9819\\ri\\tO\\t0,9828\\nlove\\tV\\t0,9915\\rco...\n",
       "13     \\t,\\t0,9848\\roh\\t!\\t0,9749\\nboy\\tN\\t0,9029\\r.....\n",
       "14     \\t,\\t0,9835\\nliar\\tN\\t0,9880\\r,\\t,\\t0,9972\\ni'...\n",
       "15     \\t,\\t0,9919\\ralways\\tR\\t0,9982\\nclassy\\tA\\t0,9...\n",
       "16     \\t,\\t0,9908\\ryou\\tO\\t0,9988\\nbelieve\\tV\\t0,999...\n",
       "17     \\t,\\t0,9787\\n#long\\t#\\t0,6023\\rto\\tP\\t0,9891\\n...\n",
       "18     \\t,\\t0,9692\\nre\\tN\\t0,9625\\r:\\t,\\t0,8011\\njami...\n",
       "19     \\t,\\t0,9783\\rguess\\tV\\t0,9954\\nthey\\tO\\t0,9949...\n",
       "20     \\t,\\t0,9848\\nexam\\tN\\t0,9581\\rna\\tP\\t0,7188\\nj...\n",
       "21     \\t,\\t0,9866\\nthe\\tD\\t0,9989\\rdefinition\\tN\\t0,...\n",
       "22     \\t,\\t0,9921\\rpretty\\tR\\t0,9778\\nexcited\\tV\\t0,...\n",
       "23     \\t,\\t0,9850\\rwho\\tO\\t0,9970\\ntold\\tV\\t0,9999\\r...\n",
       "24     \\t,\\t0,9953\\ru\\tO\\t0,9988\\nknow\\tV\\t0,9996\\rth...\n",
       "25     \\t,\\t0,9805\\rhmm\\t!\\t0,9379\\n...\\t,\\t0,8029\\rl...\n",
       "26     \\t,\\t0,9925\\rif\\tP\\t0,9918\\nyou\\tO\\t0,9997\\rwa...\n",
       "27     \\t,\\t0,9931\\rhow\\tR\\t0,9666\\ndare\\tV\\t0,9883\\r...\n",
       "28     \\t,\\t0,9819\\ni\\tO\\t0,9872\\rthink\\tV\\t1,0000\\nt...\n",
       "29     \\t,\\t0,9771\\nnatalie\\t^\\t0,9695\\rprass\\t^\\t0,7...\n",
       "                             ...                        \n",
       "754    \\t,\\t0,9692\\nre\\tN\\t0,9625\\r:\\t,\\t0,9027\\npris...\n",
       "755    \\t,\\t0,9906\\rrolled\\tV\\t0,9985\\nout\\tP\\t0,6223...\n",
       "756    \\t,\\t0,9907\\nwatching\\tV\\t0,9980\\rvt\\t^\\t0,866...\n",
       "757    \\t,\\t0,9908\\nyou\\tO\\t0,9988\\rseem\\tV\\t0,9784\\n...\n",
       "758    \\t,\\t0,9819\\ncheers\\tN\\t0,8158\\rbro\\tN\\t0,9844...\n",
       "759    \\t,\\t0,9920\\reven\\tR\\t0,9925\\ngetting\\tV\\t0,99...\n",
       "760    \\t,\\t0,9783\\nroflmao\\t!\\t0,9912\\ryeah\\t!\\t0,99...\n",
       "761    \\t,\\t0,9835\\rcoin\\tN\\t0,9542\\n!\\t,\\t0,9982\\rle...\n",
       "762    \\t,\\t0,9819\\ri\\tO\\t0,9828\\nreally\\tR\\t0,9962\\r...\n",
       "763    \\t,\\t0,9888\\rthat\\tO\\t0,5978\\nbump\\tV\\t0,9643\\...\n",
       "764    \\t,\\t0,9847\\rplease\\tV\\t0,9925\\nmake\\tV\\t0,999...\n",
       "765    \\t,\\t0,9757\\rhope\\tV\\t0,9859\\nthe\\tD\\t0,9987\\r...\n",
       "766    \\t,\\t0,9925\\nif\\tP\\t0,9708\\rit's\\tL\\t0,9991\\nn...\n",
       "767    \\t,\\t0,9897\\rit's\\tL\\t0,9942\\nokay\\tA\\t0,5872\\...\n",
       "768    \\t,\\t0,9918\\ni'll\\tL\\t0,9808\\rtry\\tV\\t0,9984\\n...\n",
       "769    \\t,\\t0,9892\\nhearing\\tV\\t0,9763\\rgun\\tN\\t0,912...\n",
       "770    \\t,\\t0,9824\\rprotesters\\tN\\t0,9825\\nupset\\tV\\t...\n",
       "771    \\t,\\t0,9878\\ngreat\\tA\\t0,9843\\r,\\t,\\t0,9975\\n&...\n",
       "772    \\t,\\t0,9743\\n#tgif\\t#\\t0,9251\\roh\\t!\\t0,9866\\n...\n",
       "773    \\t,\\t0,9919\\rjust\\tR\\t0,9989\\ngot\\tV\\t0,9989\\r...\n",
       "774    \\t,\\t0,9812\\rlol\\t!\\t0,9931\\neveryday\\tN\\t0,77...\n",
       "775    \\t,\\t0,9903\\nmaking\\tV\\t0,9994\\rthe\\tD\\t0,9990...\n",
       "776    \\t,\\t0,9840\\nwhat\\tO\\t0,8709\\ra\\tD\\t0,9855\\nlo...\n",
       "777    \\t,\\t0,9940\\nso\\tR\\t0,5997\\rrestaurants\\tN\\t0,...\n",
       "778    \\t,\\t0,9899\\nthis\\tD\\t0,8992\\rlong\\tA\\t0,9573\\...\n",
       "779    \\t,\\t0,9925\\rif\\tP\\t0,9918\\nyou\\tO\\t0,9995\\rdr...\n",
       "780    \\t,\\t0,9819\\rcongrats\\tN\\t0,4047\\nto\\tP\\t0,998...\n",
       "781    \\t,\\t0,9580\\n:\\t,\\t0,8754\\rjessica\\t^\\t0,9954\\...\n",
       "782    \\t,\\t0,9580\\n:\\t,\\t0,8478\\ral\\tG\\t0,2911\\njaze...\n",
       "783    \\t,\\t0,9926\\nall\\tD\\t0,5537\\r👌\\tE\\t0,5914\\nthe...\n",
       "Name: 0, Length: 784, dtype: object"
      ]
     },
     "execution_count": 65,
     "metadata": {},
     "output_type": "execute_result"
    }
   ],
   "source": [
    "train[0]\n"
   ]
  },
  {
   "cell_type": "code",
   "execution_count": null,
   "metadata": {},
   "outputs": [],
   "source": []
  },
  {
   "cell_type": "code",
   "execution_count": null,
   "metadata": {},
   "outputs": [],
   "source": []
  }
 ],
 "metadata": {
  "kernelspec": {
   "display_name": "Python 3",
   "language": "python",
   "name": "python3"
  },
  "language_info": {
   "codemirror_mode": {
    "name": "ipython",
    "version": 3
   },
   "file_extension": ".py",
   "mimetype": "text/x-python",
   "name": "python",
   "nbconvert_exporter": "python",
   "pygments_lexer": "ipython3",
   "version": "3.7.1"
  }
 },
 "nbformat": 4,
 "nbformat_minor": 2
}
