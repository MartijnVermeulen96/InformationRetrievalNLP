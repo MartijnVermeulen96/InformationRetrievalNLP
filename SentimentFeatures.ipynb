{
 "cells": [
  {
   "cell_type": "code",
   "execution_count": 39,
   "metadata": {},
   "outputs": [],
   "source": [
    "from afinn import Afinn\n",
    "import pandas as pd\n",
    "from FeatureFunctions import helper\n",
    "import numpy as np"
   ]
  },
  {
   "cell_type": "code",
   "execution_count": 4,
   "metadata": {},
   "outputs": [],
   "source": [
    "### Reading train and test files\n",
    "\n",
    "datafile = \"datasets/train/SemEval2018-T3-train-taskA_emoji.txt\"\n",
    "# datafile2 = \"datasets/train/SemEval2018-T3-train-taskA_emoji_ironyHashtags.txt\"\n",
    "trainingdata = pd.read_csv(datafile, sep = \"\\t\", header=0)\n",
    "\n",
    "type(trainingdata['Tweet text'])\n",
    "trainingdata = trainingdata[['Label','Tweet text']]\n",
    "train_tweets = trainingdata['Tweet text']\n",
    "\n",
    "testfile = 'datasets/goldtest_TaskA/SemEval2018-T3_gold_test_taskA_emoji.txt'\n",
    "testdata = pd.read_csv(testfile, sep=\"\\t\", header=0)\n",
    "testdata = testdata[['Label','Tweet text']]\n"
   ]
  },
  {
   "cell_type": "code",
   "execution_count": 6,
   "metadata": {},
   "outputs": [],
   "source": []
  },
  {
   "cell_type": "code",
   "execution_count": 14,
   "metadata": {},
   "outputs": [],
   "source": []
  },
  {
   "cell_type": "code",
   "execution_count": 20,
   "metadata": {},
   "outputs": [],
   "source": []
  },
  {
   "cell_type": "code",
   "execution_count": 60,
   "metadata": {},
   "outputs": [],
   "source": [
    "from afinn import Afinn\n",
    "\n",
    "def getaffinfeats(tweets):\n",
    "    afinn = Afinn()\n",
    "    overall_score = tweets.apply(afinn.score)\n",
    "    trainingdata_bags = helper.allbags(tweets)\n",
    "    training_wordlength = [len(item) for item in trainingdata_bags]\n",
    "\n",
    "    seperate_scores = []\n",
    "    for i in range(len(trainingdata)):\n",
    "        seperate_scores.append([afinn.score(word) for word in trainingdata_bags[i]])\n",
    "\n",
    "    positive_words = [sum([1 for i in row if i > 0]) for row in seperate_scores]\n",
    "    negative_words = [sum([1 for i in row if i < 0]) for row in seperate_scores]\n",
    "    neutral_words = [sum([1 for i in row if i == 0]) for row in seperate_scores]\n",
    "    difference_maxmin = [max(row) - min(row) for row in seperate_scores]\n",
    "    polarity_contrast = [a*b>0 for a,b in zip(negative_words,positive_words)]\n",
    "    afinn_features = np.column_stack((positive_words, negative_words, neutral_words, overall_score, difference_maxmin, polarity_contrast))\n",
    "    return afinn_features"
   ]
  },
  {
   "cell_type": "code",
   "execution_count": 58,
   "metadata": {},
   "outputs": [
    {
     "data": {
      "text/plain": [
       "array([[ 2.,  0., 12.,  3.,  2.,  0.],\n",
       "       [ 0.,  0., 23.,  0.,  0.,  0.],\n",
       "       [ 1.,  0.,  9.,  3.,  3.,  0.],\n",
       "       ...,\n",
       "       [ 0.,  0., 20.,  0.,  0.,  0.],\n",
       "       [ 1.,  0., 19.,  2.,  2.,  0.],\n",
       "       [ 1.,  1., 20., -1.,  3.,  1.]])"
      ]
     },
     "execution_count": 58,
     "metadata": {},
     "output_type": "execute_result"
    }
   ],
   "source": [
    "getaffinfeats(trainingdata['Tweet text'])"
   ]
  },
  {
   "cell_type": "code",
   "execution_count": 55,
   "metadata": {},
   "outputs": [],
   "source": []
  },
  {
   "cell_type": "code",
   "execution_count": 56,
   "metadata": {},
   "outputs": [
    {
     "data": {
      "text/plain": [
       "array([[ 2.,  0., 12.,  3.,  2.,  0.],\n",
       "       [ 0.,  0., 23.,  0.,  0.,  0.],\n",
       "       [ 1.,  0.,  9.,  3.,  3.,  0.],\n",
       "       ...,\n",
       "       [ 0.,  0., 20.,  0.,  0.,  0.],\n",
       "       [ 1.,  0., 19.,  2.,  2.,  0.],\n",
       "       [ 1.,  1., 20., -1.,  3.,  1.]])"
      ]
     },
     "execution_count": 56,
     "metadata": {},
     "output_type": "execute_result"
    }
   ],
   "source": [
    "afinn_features"
   ]
  },
  {
   "cell_type": "code",
   "execution_count": null,
   "metadata": {},
   "outputs": [],
   "source": []
  }
 ],
 "metadata": {
  "kernelspec": {
   "display_name": "Python 3",
   "language": "python",
   "name": "python3"
  },
  "language_info": {
   "codemirror_mode": {
    "name": "ipython",
    "version": 3
   },
   "file_extension": ".py",
   "mimetype": "text/x-python",
   "name": "python",
   "nbconvert_exporter": "python",
   "pygments_lexer": "ipython3",
   "version": "3.7.1"
  }
 },
 "nbformat": 4,
 "nbformat_minor": 2
}
