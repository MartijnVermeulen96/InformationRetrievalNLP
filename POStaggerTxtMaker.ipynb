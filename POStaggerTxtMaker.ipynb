{
 "cells": [
  {
   "cell_type": "code",
   "execution_count": 36,
   "metadata": {},
   "outputs": [],
   "source": [
    "import pandas as pd\n",
    "from FeatureFunctions import helper\n",
    "\n",
    "\n",
    "traindata = \"datasets/train/SemEval2018-T3-train-taskA_emoji.txt\"\n",
    "testdata= \"datasets/test_TaskA/SemEval2018-T3_input_test_taskA_emoji.txt\"\n",
    "trainingdata = pd.read_csv(traindata, delimiter = \"\\t\", header=0)\n",
    "testdata = pd.read_csv(testdata, delimiter = \"\\t\", header=0)\n",
    "\n",
    "tweettrainingdata = trainingdata[\"Tweet text\"]\n",
    "tweettestdata = testdata[\"tweet text\"]\n",
    "\n",
    "            "
   ]
  },
  {
   "cell_type": "code",
   "execution_count": 37,
   "metadata": {},
   "outputs": [],
   "source": [
    "def postag(bags):\n",
    "    string = \"\"\n",
    "    data = []\n",
    "    for i in range(len(bags)):\n",
    "        for j in range(len(bags[i])):\n",
    "            string += bags[i][j] + \" \"\n",
    "            data.append(string)\n",
    "    return(data)\n",
    "            \n",
    "            "
   ]
  },
  {
   "cell_type": "code",
   "execution_count": null,
   "metadata": {},
   "outputs": [],
   "source": []
  },
  {
   "cell_type": "code",
   "execution_count": null,
   "metadata": {},
   "outputs": [],
   "source": []
  },
  {
   "cell_type": "code",
   "execution_count": null,
   "metadata": {},
   "outputs": [],
   "source": []
  },
  {
   "cell_type": "code",
   "execution_count": null,
   "metadata": {
    "scrolled": true
   },
   "outputs": [],
   "source": [
    "\n"
   ]
  },
  {
   "cell_type": "code",
   "execution_count": null,
   "metadata": {},
   "outputs": [],
   "source": []
  },
  {
   "cell_type": "code",
   "execution_count": 44,
   "metadata": {},
   "outputs": [],
   "source": [
    "resulttest = []\n",
    "resulttrain = []\n",
    "for row in testbags:\n",
    "    resulttest.append(' '.join(row))\n",
    "    \n",
    "for row in trainbags:\n",
    "    resulttrain.append(' '.join(row))\n"
   ]
  },
  {
   "cell_type": "code",
   "execution_count": 45,
   "metadata": {},
   "outputs": [],
   "source": [
    "type(resulttest)\n",
    "resulttest = pd.DataFrame(resulttest)\n",
    "resulttrain = pd.DataFrame(resulttrain)\n"
   ]
  },
  {
   "cell_type": "code",
   "execution_count": 49,
   "metadata": {},
   "outputs": [
    {
     "data": {
      "text/plain": [
       "'sweet united nations video . just in time for christmas . #imagine #noreligion http://t.co/fej2v3OUBR'"
      ]
     },
     "execution_count": 49,
     "metadata": {},
     "output_type": "execute_result"
    }
   ],
   "source": [
    "resulttrain[0][0]"
   ]
  },
  {
   "cell_type": "code",
   "execution_count": 50,
   "metadata": {},
   "outputs": [],
   "source": [
    "import csv\n",
    "resulttest.to_csv('output/testdata.txt', header=None,index = None, sep=' ',)\n",
    "resulttrain.to_csv('output/traindata.txt', header=None, index=None, sep=' ')\n",
    "\n"
   ]
  },
  {
   "cell_type": "code",
   "execution_count": null,
   "metadata": {},
   "outputs": [],
   "source": []
  }
 ],
 "metadata": {
  "kernelspec": {
   "display_name": "Python 3",
   "language": "python",
   "name": "python3"
  },
  "language_info": {
   "codemirror_mode": {
    "name": "ipython",
    "version": 3
   },
   "file_extension": ".py",
   "mimetype": "text/x-python",
   "name": "python",
   "nbconvert_exporter": "python",
   "pygments_lexer": "ipython3",
   "version": "3.7.1"
  }
 },
 "nbformat": 4,
 "nbformat_minor": 2
}
