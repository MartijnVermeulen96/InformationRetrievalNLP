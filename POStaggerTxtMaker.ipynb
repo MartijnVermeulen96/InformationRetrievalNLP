{
 "cells": [
  {
   "cell_type": "code",
   "execution_count": 1,
   "metadata": {},
   "outputs": [],
   "source": [
    "import pandas as pd\n",
    "from FeatureFunctions import helper\n",
    "import csv\n",
    "\n",
    "traindata = \"datasets/train/SemEval2018-T3-train-taskA_emoji.txt\"\n",
    "testdata= \"datasets/test_TaskA/SemEval2018-T3_input_test_taskA_emoji.txt\"\n",
    "trainingdata = pd.read_csv(traindata, delimiter = \"\\t\", header=0, quoting=csv.QUOTE_NONE)\n",
    "testdata = pd.read_csv(testdata, delimiter = \"\\t\", header=0, quoting=csv.QUOTE_NONE)\n",
    "\n",
    "tweettrainingdata = trainingdata[\"Tweet text\"]\n",
    "tweettestdata = testdata[\"tweet text\"]\n",
    "trainbags = helper.allbags(tweettrainingdata)\n",
    "testbags = helper.allbags(tweettestdata)"
   ]
  },
  {
   "cell_type": "code",
   "execution_count": 2,
   "metadata": {},
   "outputs": [],
   "source": [
    "def postag(bags):\n",
    "    string = \"\"\n",
    "    data = []\n",
    "    for i in range(len(bags)):\n",
    "        for j in range(len(bags[i])):\n",
    "            string += bags[i][j] + \" \"\n",
    "            data.append(string)\n",
    "    return(data)\n",
    "            \n",
    "            "
   ]
  },
  {
   "cell_type": "code",
   "execution_count": null,
   "metadata": {},
   "outputs": [],
   "source": []
  },
  {
   "cell_type": "code",
   "execution_count": null,
   "metadata": {},
   "outputs": [],
   "source": []
  },
  {
   "cell_type": "code",
   "execution_count": null,
   "metadata": {},
   "outputs": [],
   "source": []
  },
  {
   "cell_type": "code",
   "execution_count": null,
   "metadata": {
    "scrolled": true
   },
   "outputs": [],
   "source": [
    "\n"
   ]
  },
  {
   "cell_type": "code",
   "execution_count": null,
   "metadata": {},
   "outputs": [],
   "source": []
  },
  {
   "cell_type": "code",
   "execution_count": 3,
   "metadata": {},
   "outputs": [],
   "source": [
    "resulttest = []\n",
    "resulttrain = []\n",
    "for row in testbags:\n",
    "    resulttest.append(' '.join(row))\n",
    "    \n",
    "for row in trainbags:\n",
    "    resulttrain.append(' '.join(row))\n"
   ]
  },
  {
   "cell_type": "code",
   "execution_count": 4,
   "metadata": {},
   "outputs": [],
   "source": [
    "type(resulttest)\n",
    "resulttest = pd.DataFrame(resulttest)\n",
    "resulttrain = pd.DataFrame(resulttrain)\n"
   ]
  },
  {
   "cell_type": "code",
   "execution_count": 5,
   "metadata": {},
   "outputs": [
    {
     "data": {
      "text/plain": [
       "'Sweet United Nations video . Just in time for Christmas . #imagine #NoReligion http://t.co/fej2v3OUBR'"
      ]
     },
     "execution_count": 5,
     "metadata": {},
     "output_type": "execute_result"
    }
   ],
   "source": [
    "resulttrain[0][0]"
   ]
  },
  {
   "cell_type": "code",
   "execution_count": 6,
   "metadata": {},
   "outputs": [],
   "source": [
    "import csv\n",
    "resulttest.to_csv('output/testdata.txt', header=None,index = None, sep=' ',)\n",
    "resulttrain.to_csv('output/traindata.txt', header=None, index=None, sep=' ')\n",
    "\n"
   ]
  },
  {
   "cell_type": "code",
   "execution_count": null,
   "metadata": {},
   "outputs": [],
   "source": []
  }
 ],
 "metadata": {
  "kernelspec": {
   "display_name": "Python 3",
   "language": "python",
   "name": "python3"
  },
  "language_info": {
   "codemirror_mode": {
    "name": "ipython",
    "version": 3
   },
   "file_extension": ".py",
   "mimetype": "text/x-python",
   "name": "python",
   "nbconvert_exporter": "python",
   "pygments_lexer": "ipython3",
   "version": "3.7.1"
  }
 },
 "nbformat": 4,
 "nbformat_minor": 2
}
