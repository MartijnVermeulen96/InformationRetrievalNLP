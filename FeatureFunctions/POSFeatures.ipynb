{
 "cells": [
  {
   "cell_type": "code",
   "execution_count": 47,
   "metadata": {},
   "outputs": [],
   "source": [
    "import pandas as pd\n",
    "import numpy as np"
   ]
  },
  {
   "cell_type": "code",
   "execution_count": 48,
   "metadata": {},
   "outputs": [],
   "source": [
    "traindata = pd.read_csv(\"POStrain.txt\", delimiter=\"\\t\",sep=\"\\t\")"
   ]
  },
  {
   "cell_type": "code",
   "execution_count": 49,
   "metadata": {},
   "outputs": [],
   "source": [
    "\n",
    "        \n",
    "train_results = results\n",
    "\n",
    "with open(\"POStest.txt\") as f:\n",
    "    allvalues = ''\n",
    "    lis = [line.split() for line in f]        # create a list of lists\n",
    "    irow = 0\n",
    "    results = []\n",
    "    result_line = []\n",
    "\n",
    "    for word in lis:\n",
    "        if len(word) < 3:\n",
    "            irow = irow + 1\n",
    "            results.append(result_line)\n",
    "            result_line = []\n",
    "        else:\n",
    "            result_line.append(word[1])\n",
    "            allvalues += word[1]\n",
    "            \n",
    "test_results = results"
   ]
  },
  {
   "cell_type": "code",
   "execution_count": 50,
   "metadata": {},
   "outputs": [
    {
     "name": "stdout",
     "output_type": "stream",
     "text": [
      "{'#', 'O', '^', '$', 'S', 'G', 'P', ',', 'E', 'U', 'L', 'V', 'A', 'T', 'Z', 'X', '~', 'D', '!', 'R', 'Y', '&', 'N'}\n",
      "{'#', 'O', '^', '$', 'S', 'G', 'P', ',', 'E', 'L', 'V', 'A', 'T', 'Z', 'X', '~', 'D', '!', 'R', '&', 'U', 'N'}\n"
     ]
    }
   ],
   "source": [
    "trainset = set(sum(train_results, []))\n",
    "print(trainset)\n",
    "testset = set(sum(test_results, []))\n",
    "print(testset)"
   ]
  },
  {
   "cell_type": "code",
   "execution_count": null,
   "metadata": {},
   "outputs": [],
   "source": [
    "\n",
    "\n"
   ]
  },
  {
   "cell_type": "code",
   "execution_count": 86,
   "metadata": {},
   "outputs": [],
   "source": [
    "test_df = pd.DataFrame(0,columns=columns, index=np.arange(len(train_results)))"
   ]
  },
  {
   "cell_type": "code",
   "execution_count": 87,
   "metadata": {},
   "outputs": [],
   "source": []
  },
  {
   "cell_type": "code",
   "execution_count": 104,
   "metadata": {},
   "outputs": [],
   "source": []
  },
  {
   "cell_type": "code",
   "execution_count": 108,
   "metadata": {},
   "outputs": [],
   "source": [
    "def getPOSfeatures(inputfile):\n",
    "    with open(inputfile) as f:\n",
    "        allvalues = ''\n",
    "        lis = [line.split() for line in f]        # create a list of lists\n",
    "        irow = 0\n",
    "        results = []\n",
    "        result_line = []\n",
    "\n",
    "        for word in lis:\n",
    "            if len(word) < 3:\n",
    "                irow = irow + 1\n",
    "                results.append(result_line)\n",
    "                result_line = []\n",
    "            else:\n",
    "                result_line.append(word[1])\n",
    "                allvalues += word[1]\n",
    "\n",
    "    columns_base = ['#', 'O', '^', '$', 'S', 'G', 'P', ',', 'E', 'L', 'V', 'A', 'T', 'Z', 'X', '~', 'D', '!', 'R', '&', 'Y', 'U', 'N']\n",
    "    columns_binary = [\"occurs_\" + s for s in columns_base]\n",
    "    columns_012 = [\"012_\" + s for s in columns_base]\n",
    "    columns_percentage = [\"freq_\" + s for s in columns_base]\n",
    "    columns = columns_base + columns_binary + columns_012 + columns_percentage\n",
    "\n",
    "    train_df = pd.DataFrame(0,columns=columns, index=np.arange(len(train_results)))\n",
    "\n",
    "    for i in range(len(train_results)):\n",
    "        for word_pos in train_results[i]:\n",
    "            train_df.loc[i, word_pos] = train_df.loc[i, word_pos] + 1\n",
    "    train_df[columns_012] = train_df[columns_base].applymap(lambda x: min(x,2))\n",
    "    train_df[columns_binary] = train_df[columns_base].applymap(lambda x: min(x,1))\n",
    "    total_sum = train_df[columns_base].apply(sum, axis=1)\n",
    "    train_df[columns_freq] = train_df[columns_base].div(total_sum,axis=0)\n",
    "\n",
    "    return train_df.values\n",
    "\n"
   ]
  },
  {
   "cell_type": "code",
   "execution_count": 109,
   "metadata": {},
   "outputs": [
    {
     "data": {
      "text/plain": [
       "array([[2.        , 0.        , 1.        , ..., 0.        , 0.0625    ,\n",
       "        0.1875    ],\n",
       "       [0.        , 1.        , 2.        , ..., 0.        , 0.        ,\n",
       "        0.125     ],\n",
       "       [0.        , 1.        , 1.        , ..., 0.        , 0.        ,\n",
       "        0.14285714],\n",
       "       ...,\n",
       "       [1.        , 0.        , 0.        , ..., 0.        , 0.        ,\n",
       "        0.09090909],\n",
       "       [4.        , 0.        , 0.        , ..., 0.        , 0.04545455,\n",
       "        0.13636364],\n",
       "       [1.        , 0.        , 0.        , ..., 0.        , 0.        ,\n",
       "        0.25      ]])"
      ]
     },
     "execution_count": 109,
     "metadata": {},
     "output_type": "execute_result"
    }
   ],
   "source": [
    "getPOSfeatures(\"POStrain.txt\")"
   ]
  },
  {
   "cell_type": "code",
   "execution_count": 110,
   "metadata": {},
   "outputs": [
    {
     "data": {
      "text/plain": [
       "array([[2.        , 0.        , 1.        , ..., 0.        , 0.0625    ,\n",
       "        0.1875    ],\n",
       "       [0.        , 1.        , 2.        , ..., 0.        , 0.        ,\n",
       "        0.125     ],\n",
       "       [0.        , 1.        , 1.        , ..., 0.        , 0.        ,\n",
       "        0.14285714],\n",
       "       ...,\n",
       "       [1.        , 0.        , 0.        , ..., 0.        , 0.        ,\n",
       "        0.09090909],\n",
       "       [4.        , 0.        , 0.        , ..., 0.        , 0.04545455,\n",
       "        0.13636364],\n",
       "       [1.        , 0.        , 0.        , ..., 0.        , 0.        ,\n",
       "        0.25      ]])"
      ]
     },
     "execution_count": 110,
     "metadata": {},
     "output_type": "execute_result"
    }
   ],
   "source": [
    "getPOSfeatures(\"POStest.txt\")"
   ]
  },
  {
   "cell_type": "code",
   "execution_count": null,
   "metadata": {},
   "outputs": [],
   "source": []
  }
 ],
 "metadata": {
  "kernelspec": {
   "display_name": "Python 3",
   "language": "python",
   "name": "python3"
  },
  "language_info": {
   "codemirror_mode": {
    "name": "ipython",
    "version": 3
   },
   "file_extension": ".py",
   "mimetype": "text/x-python",
   "name": "python",
   "nbconvert_exporter": "python",
   "pygments_lexer": "ipython3",
   "version": "3.7.1"
  }
 },
 "nbformat": 4,
 "nbformat_minor": 2
}
