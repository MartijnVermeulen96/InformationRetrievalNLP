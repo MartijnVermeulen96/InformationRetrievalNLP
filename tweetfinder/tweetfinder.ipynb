{
 "cells": [
  {
   "cell_type": "code",
   "execution_count": 105,
   "metadata": {},
   "outputs": [
    {
     "name": "stdout",
     "output_type": "stream",
     "text": [
      "                    type                                              value\n",
      "0              (API key)                          927IE1jQECrBvRhT0Qw3pEs01\n",
      "1       (API secret key)  c7ntcL8E2L6URmyLO3ESt3cdte1421LLapu2XdWI2l7Cvx...\n",
      "2         (Access token)   1072115200126521349-53MV7gqlnxhyDOyZdcOKVS8R0...\n",
      "3  (Access token secret)      nAo4BModfk0okDHBtAVg9oxDGRG9c76iVxPi6CHNPy4N9\n"
     ]
    }
   ],
   "source": [
    "import pandas as pd\n",
    "import tweepy\n",
    "import json\n",
    "\n",
    "df = pd.read_csv(\"keys.txt\")\n",
    "print(df)\n",
    "\n",
    "ACCESS_TOKEN = df.iloc[2,1].strip()\n",
    "ACCESS_SECRET = df.iloc[3,1].strip()\n",
    "CONSUMER_KEY = df.iloc[0,1].strip()\n",
    "CONSUMER_SECRET = df.iloc[1,1].strip()\n",
    "\n",
    "auth = tweepy.OAuthHandler(CONSUMER_KEY, CONSUMER_SECRET)\n",
    "auth.set_access_token(ACCESS_TOKEN, ACCESS_SECRET)\n",
    "\n",
    "api = tweepy.API(auth, wait_on_rate_limit=True,wait_on_rate_limit_notify=True, compression=True)\n",
    "\n",
    "pd.options.display.float_format = '{:,.0f}'.format\n",
    "    \n",
    "    "
   ]
  },
  {
   "cell_type": "code",
   "execution_count": 106,
   "metadata": {},
   "outputs": [],
   "source": [
    "sarcasm = pd.read_csv(\"sarcasm.csv\", sep = \"\\t\",header = None,dtype='str')\n",
    "irony = sarcasm = pd.read_csv(\"irony.csv\", sep = \"\\t\",header = None,dtype='str')"
   ]
  },
  {
   "cell_type": "code",
   "execution_count": 107,
   "metadata": {},
   "outputs": [],
   "source": [
    "sarcasticandironic = sarcasm.append(pd.DataFrame(data = irony), ignore_index=True)"
   ]
  },
  {
   "cell_type": "code",
   "execution_count": 108,
   "metadata": {},
   "outputs": [
    {
     "data": {
      "text/plain": [
       "'623056094445871104'"
      ]
     },
     "execution_count": 108,
     "metadata": {},
     "output_type": "execute_result"
    }
   ],
   "source": []
  },
  {
   "cell_type": "code",
   "execution_count": 109,
   "metadata": {},
   "outputs": [
    {
     "data": {
      "text/plain": [
       "['623054008991772672', '623055404885372928']"
      ]
     },
     "execution_count": 109,
     "metadata": {},
     "output_type": "execute_result"
    }
   ],
   "source": []
  },
  {
   "cell_type": "code",
   "execution_count": 110,
   "metadata": {},
   "outputs": [
    {
     "data": {
      "text/plain": [
       "601"
      ]
     },
     "execution_count": 110,
     "metadata": {},
     "output_type": "execute_result"
    }
   ],
   "source": []
  },
  {
   "cell_type": "code",
   "execution_count": 118,
   "metadata": {},
   "outputs": [],
   "source": [
    "tweets = []\n",
    "tweet_count = len(sarcasticandironic)\n",
    "api = tweepy.API(auth)\n",
    "\n",
    "for i in range(int((tweet_count / 100) + 1)):\n",
    "    try:\n",
    "        # Catch the last group if it is less than 100 tweets\n",
    "        end_loc = min((i + 1) * 100, tweet_count)\n",
    "        twits = api.statuses_lookup(list(sarcasticandironic[3][i * 100:end_loc]))\n",
    "        for j in range (len(twits)):\n",
    "            tweets.append(twits[j].text)\n",
    "    except tweepy.TweepError:\n",
    "        pass    \n",
    "        \n"
   ]
  },
  {
   "cell_type": "code",
   "execution_count": 120,
   "metadata": {},
   "outputs": [
    {
     "data": {
      "text/plain": [
       "45432"
      ]
     },
     "execution_count": 120,
     "metadata": {},
     "output_type": "execute_result"
    }
   ],
   "source": [
    "len(tweets)"
   ]
  },
  {
   "cell_type": "code",
   "execution_count": 125,
   "metadata": {},
   "outputs": [],
   "source": [
    "tweetsdf = pd.DataFrame(tweets)\n",
    "tweetsdf.to_csv('tweets_corpus.txt', header=None, index=None, sep=' ', mode='a')"
   ]
  },
  {
   "cell_type": "code",
   "execution_count": null,
   "metadata": {},
   "outputs": [],
   "source": []
  },
  {
   "cell_type": "code",
   "execution_count": null,
   "metadata": {},
   "outputs": [],
   "source": []
  },
  {
   "cell_type": "code",
   "execution_count": null,
   "metadata": {},
   "outputs": [],
   "source": []
  },
  {
   "cell_type": "code",
   "execution_count": 124,
   "metadata": {},
   "outputs": [],
   "source": []
  },
  {
   "cell_type": "code",
   "execution_count": null,
   "metadata": {},
   "outputs": [],
   "source": []
  },
  {
   "cell_type": "code",
   "execution_count": null,
   "metadata": {},
   "outputs": [],
   "source": []
  },
  {
   "cell_type": "code",
   "execution_count": null,
   "metadata": {},
   "outputs": [],
   "source": []
  }
 ],
 "metadata": {
  "kernelspec": {
   "display_name": "Python 3",
   "language": "python",
   "name": "python3"
  },
  "language_info": {
   "codemirror_mode": {
    "name": "ipython",
    "version": 3
   },
   "file_extension": ".py",
   "mimetype": "text/x-python",
   "name": "python",
   "nbconvert_exporter": "python",
   "pygments_lexer": "ipython3",
   "version": "3.7.1"
  }
 },
 "nbformat": 4,
 "nbformat_minor": 2
}
